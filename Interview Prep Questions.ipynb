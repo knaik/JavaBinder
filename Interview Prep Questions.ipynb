{
 "cells": [
  {
   "cell_type": "markdown",
   "metadata": {},
   "source": [
    "Find the number of words in a sentence"
   ]
  },
  {
   "cell_type": "code",
   "execution_count": 8,
   "metadata": {},
   "outputs": [
    {
     "name": "stdout",
     "output_type": "stream",
     "text": [
      "13\n",
      "13\n",
      "13\n"
     ]
    }
   ],
   "source": [
    "String sent = \"Hello my name is Alice. This notebook is full of java interview problems.\";\n",
    "\n",
    "static int wordCount(String str){\n",
    "    int count = 1; //for initial word\n",
    "    char SP = ' '; //character that seperates words not including punctuation, \n",
    "                   //however words will never be just punctuation and punct is \n",
    "                   //always followed by space\n",
    "    \n",
    "    for (int i = 0; i < str.length(); i++) {\n",
    "        if (str.charAt(i) == SP){\n",
    "            count++;\n",
    "        }\n",
    "    }\n",
    "    \n",
    "    return count;\n",
    "    \n",
    "}\n",
    "\n",
    "System.out.println(wordCount(sent)); //O(n) due to array iteration and comparison\n",
    "\n",
    "static int wordCountListMethod(String str){\n",
    "    String[] arr = str.split(\" \");\n",
    "    return arr.length;\n",
    "}\n",
    "\n",
    "System.out.println(wordCountListMethod(sent));\n",
    "\n",
    "int wordCountMultipleSpaces(String str){\n",
    "    int count = 0;\n",
    "    String[] arr = str.split(\" \");\n",
    "    for (String s : arr){\n",
    "        if (s.trim().length() > 0){\n",
    "            count++;\n",
    "        }\n",
    "    }\n",
    "    return count;\n",
    "}\n",
    "\n",
    "System.out.println(wordCountMultipleSpaces(sent));\n",
    "//junit testing is not reliable in my current jupyter setup"
   ]
  },
  {
   "cell_type": "markdown",
   "metadata": {},
   "source": [
    "Check if parenthesis match"
   ]
  },
  {
   "cell_type": "code",
   "execution_count": 26,
   "metadata": {},
   "outputs": [
    {
     "name": "stdout",
     "output_type": "stream",
     "text": [
      "true\n",
      "false\n",
      "true\n",
      "false\n",
      "false\n",
      "false\n",
      "false\n",
      "false\n",
      "true\n",
      "true\n",
      "false\n"
     ]
    }
   ],
   "source": [
    "public static boolean matched(String str){\n",
    "    Stack<Character> stack = new Stack<Character>(); \n",
    "    String opening = \"[{(\";\n",
    "    for (char c : str.toCharArray()){\n",
    "        if (opening.contains(\"\"+c)){\n",
    "            stack.push(c);\n",
    "        } else {\n",
    "            if (stack.size() == 0){\n",
    "                return false;\n",
    "            }\n",
    "            Character ch = stack.pop();\n",
    "            if ((ch.equals('[') && c == ']' )|| (ch.equals('(') && c == ')' )|| (ch.equals('{') && c == '}' )){\n",
    "                continue;\n",
    "            }\n",
    "            return false;\n",
    "        }\n",
    "    }\n",
    "    return stack.size() == 0;\n",
    "}\n",
    "\n",
    "System.out.println(matched(\"({}[])\"));\n",
    "System.out.println(matched(\"(({()})))\"));\n",
    "System.out.println(matched(\"({(){}()})()({(){}()})(){()}\"));\n",
    "System.out.println(matched(\"{}()))(()()({}}{}\"));\n",
    "System.out.println(matched(\"}}}}\"));\n",
    "System.out.println(matched(\"))))\"));\n",
    "System.out.println(matched(\"{{{\"));\n",
    "System.out.println(matched(\"(((\"));\n",
    "System.out.println(matched(\"[]{}(){()}((())){{{}}}{()()}{{}{}}\"));\n",
    "System.out.println(matched(\"[[]][][]\"));\n",
    "System.out.println(matched(\"}{\"));"
   ]
  },
  {
   "cell_type": "markdown",
   "metadata": {},
   "source": [
    "In computer science, a set is an abstract data type that can store certain values, without any particular order, and no repeated values(Wikipedia).  is an example of a set, but  is not a set. Today you will learn how to use sets in java by solving this problem.\n",
    "\n",
    "You are given  pairs of strings. Two pairs  and  are identical if  and . That also implies  is not same as . After taking each pair as input, you need to print number of unique pairs you currently have.\n",
    "\n",
    "Complete the code in the editor to solve this problem."
   ]
  },
  {
   "cell_type": "code",
   "execution_count": 30,
   "metadata": {
    "collapsed": true
   },
   "outputs": [],
   "source": [
    "import java.io.*;\n",
    "import java.util.*;\n",
    "import java.text.*;\n",
    "import java.math.*;\n",
    "import java.util.regex.*;\n",
    "\n",
    "public class Solution {\n",
    "\n",
    " public static void main(String[] args) {\n",
    "        Scanner s = new Scanner(System.in);\n",
    "        int t = s.nextInt();\n",
    "        String [] pair_left = new String[t];\n",
    "        String [] pair_right = new String[t];\n",
    "        \n",
    "        for (int i = 0; i < t; i++) {\n",
    "            pair_left[i] = s.next();\n",
    "            pair_right[i] = s.next();\n",
    "        }\n",
    "\n",
    "//Write your code here\n",
    " HashSet<String> pairs = new HashSet<String>(t);\n",
    "\n",
    "    for(int i = 0; i < t; i++)\n",
    "    {\n",
    "        pairs.add(\"(\" + pair_left[i] + \" \" + pair_right[i] + \")\" );\n",
    "        System.out.println(pairs.size());        \n",
    "    }\n",
    "   }\n",
    "}"
   ]
  },
  {
   "cell_type": "markdown",
   "metadata": {},
   "source": [
    "You are given a phone book that consists of people's names and their phone number. After that you will be given some person's name as query. For each query, print the phone number of that person."
   ]
  },
  {
   "cell_type": "code",
   "execution_count": 29,
   "metadata": {
    "collapsed": true
   },
   "outputs": [],
   "source": [
    "//Complete this code or write your own from scratch\n",
    "import java.util.*;\n",
    "import java.io.*;\n",
    "\n",
    "class Solution{\n",
    "    public static void main(String []argh)\n",
    "    {\n",
    "        Scanner in = new Scanner(System.in);\n",
    "        int n=in.nextInt();\n",
    "        in.nextLine();\n",
    "\n",
    "        HashMap<String,Integer> dir = new HashMap<String,Integer>();\n",
    "\n",
    "        for(int i=0;i<n;i++)\n",
    "        {\n",
    "            String name=in.nextLine();\n",
    "            int phone=in.nextInt();\n",
    "\n",
    "            dir.put(name,phone);\n",
    "\n",
    "            in.nextLine();\n",
    "        }\n",
    "\n",
    "        while(in.hasNext())\n",
    "        {\n",
    "            String s=in.nextLine();\n",
    "            if(dir.get(s)!=null) {\n",
    "                System.out.println(s+\"=\"+dir.get(s));\n",
    "            }\n",
    "            else {\n",
    "                System.out.println(\"Not found\");\n",
    "            }\n",
    "        }\n",
    "    }\n",
    "}\n",
    "\n",
    "\n",
    "\n"
   ]
  }
 ],
 "metadata": {
  "kernelspec": {
   "display_name": "Java",
   "language": "java",
   "name": "java"
  },
  "language_info": {
   "codemirror_mode": "java",
   "file_extension": ".java",
   "mimetype": "text/x-java-source",
   "name": "Java",
   "pygments_lexer": "java",
   "version": "11.0.1+13-LTS"
  }
 },
 "nbformat": 4,
 "nbformat_minor": 2
}

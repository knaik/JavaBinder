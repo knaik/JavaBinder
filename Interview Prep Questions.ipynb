{
 "cells": [
  {
   "cell_type": "code",
   "execution_count": 12,
   "metadata": {
    "collapsed": true
   },
   "outputs": [],
   "source": [
    "%maven junit:junit:4.12"
   ]
  },
  {
   "cell_type": "code",
   "execution_count": 13,
   "metadata": {
    "collapsed": true
   },
   "outputs": [],
   "source": [
    "import static org.junit.Assert.*;\n",
    "import org.junit.Test;\n",
    "import static org.junit.Assert.assertEquals;\n",
    "import org.junit.runner.JUnitCore;\n",
    "import org.junit.runner.Result;\n",
    "import org.junit.runner.notification.Failure;"
   ]
  },
  {
   "cell_type": "markdown",
   "metadata": {},
   "source": [
    "Find the number of words in a sentence"
   ]
  },
  {
   "cell_type": "code",
   "execution_count": 30,
   "metadata": {},
   "outputs": [
    {
     "name": "stdout",
     "output_type": "stream",
     "text": [
      "13\n",
      "13\n",
      "13\n",
      "testAdd(REPL.$JShell$53L$TestJunit): resolution exception\n",
      "testAdd2(REPL.$JShell$53L$TestJunit): resolution exception\n",
      "testAdd3(REPL.$JShell$53L$TestJunit): resolution exception\n",
      "false\n"
     ]
    }
   ],
   "source": [
    "//String sent = \"Hello my name is Karan. This notebook is full of java interview problems.\";\n",
    "\n",
    "static int wordCount(String str){\n",
    "    int count = 1; //for initial word\n",
    "    char SP = ' '; //character that seperates words not including punctuation, \n",
    "                   //however words will never be just punctuation and punct is \n",
    "                   //always followed by space\n",
    "    \n",
    "    for (int i = 0; i < str.length(); i++) {\n",
    "        if (str.charAt(i) == SP){\n",
    "            count++;\n",
    "        }\n",
    "    }\n",
    "    \n",
    "    return count;\n",
    "    \n",
    "}\n",
    "\n",
    "System.out.println(wordCount(sent)); //O(n) due to array iteration and comparison\n",
    "\n",
    "static int wordCountListMethod(String str){\n",
    "    String[] arr = str.split(\" \");\n",
    "    return arr.length;\n",
    "}\n",
    "\n",
    "System.out.println(wordCountListMethod(sent));\n",
    "\n",
    "int wordCountMultipleSpaces(String str){\n",
    "    int count = 0;\n",
    "    String[] arr = str.split(\" \");\n",
    "    for (String s : arr){\n",
    "        if (s.trim().length() > 0){\n",
    "            count++;\n",
    "        }\n",
    "    }\n",
    "    return count;\n",
    "}\n",
    "System.out.println(wordCountMultipleSpaces(sent));\n",
    "\n",
    "public class TestJunit {\n",
    "   protected int actualCount;\n",
    "\n",
    "   protected void setUp(){\n",
    "   String sent = \"Hello my name is Karan. This notebook is full of java interview problems.\";\n",
    "   String sent2 = \"Hello. This notebook is full of java interview problems.\";\n",
    "\n",
    "   }\n",
    "   \n",
    "   @Test\n",
    "   public void testAdd() {\n",
    "      int actualCount = 13;\n",
    "      assertEquals(actualCount,wordCount(sent));\n",
    "      assertEquals(actualCount,wordCount(sent2));\n",
    "   }\n",
    "   @Test\n",
    "   public void testAdd2() {\n",
    "      int actualCount = 13;\n",
    "      assertEquals(actualCount,wordCountMultipleSpaces(sent));\n",
    "   }\n",
    "   @Test\n",
    "   public void testAdd3() {\n",
    "      int actualCount = 13;\n",
    "      assertEquals(actualCount,wordCountMultipleSpaces(sent));\n",
    "   }\n",
    "}\n",
    "\n",
    "Result result = JUnitCore.runClasses(TestJunit.class);\n",
    "\n",
    "      for (Failure failure : result.getFailures()) {\n",
    "         System.out.println(failure.toString());\n",
    "      }\n",
    "      System.out.println(result.wasSuccessful());"
   ]
  },
  {
   "cell_type": "code",
   "execution_count": null,
   "metadata": {
    "collapsed": true
   },
   "outputs": [],
   "source": []
  },
  {
   "cell_type": "code",
   "execution_count": null,
   "metadata": {
    "collapsed": true
   },
   "outputs": [],
   "source": []
  }
 ],
 "metadata": {
  "kernelspec": {
   "display_name": "Java",
   "language": "java",
   "name": "java"
  },
  "language_info": {
   "codemirror_mode": "java",
   "file_extension": ".java",
   "mimetype": "text/x-java-source",
   "name": "Java",
   "pygments_lexer": "java",
   "version": "11.0.1+13-LTS"
  }
 },
 "nbformat": 4,
 "nbformat_minor": 2
}

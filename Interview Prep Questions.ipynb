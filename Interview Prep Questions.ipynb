{
 "cells": [
  {
   "cell_type": "markdown",
   "metadata": {},
   "source": [
    "Find the number of words in a sentence"
   ]
  },
  {
   "cell_type": "code",
   "execution_count": 8,
   "metadata": {},
   "outputs": [
    {
     "name": "stdout",
     "output_type": "stream",
     "text": [
      "13\n",
      "13\n",
      "13\n"
     ]
    }
   ],
   "source": [
    "String sent = \"Hello my name is Alice. This notebook is full of java interview problems.\";\n",
    "\n",
    "static int wordCount(String str){\n",
    "    int count = 1; //for initial word\n",
    "    char SP = ' '; //character that seperates words not including punctuation, \n",
    "                   //however words will never be just punctuation and punct is \n",
    "                   //always followed by space\n",
    "    \n",
    "    for (int i = 0; i < str.length(); i++) {\n",
    "        if (str.charAt(i) == SP){\n",
    "            count++;\n",
    "        }\n",
    "    }\n",
    "    \n",
    "    return count;\n",
    "    \n",
    "}\n",
    "\n",
    "System.out.println(wordCount(sent)); //O(n) due to array iteration and comparison\n",
    "\n",
    "static int wordCountListMethod(String str){\n",
    "    String[] arr = str.split(\" \");\n",
    "    return arr.length;\n",
    "}\n",
    "\n",
    "System.out.println(wordCountListMethod(sent));\n",
    "\n",
    "int wordCountMultipleSpaces(String str){\n",
    "    int count = 0;\n",
    "    String[] arr = str.split(\" \");\n",
    "    for (String s : arr){\n",
    "        if (s.trim().length() > 0){\n",
    "            count++;\n",
    "        }\n",
    "    }\n",
    "    return count;\n",
    "}\n",
    "\n",
    "System.out.println(wordCountMultipleSpaces(sent));\n",
    "//junit testing is not reliable in my current jupyter setup"
   ]
  },
  {
   "cell_type": "code",
   "execution_count": null,
   "metadata": {
    "collapsed": true
   },
   "outputs": [],
   "source": []
  },
  {
   "cell_type": "code",
   "execution_count": null,
   "metadata": {
    "collapsed": true
   },
   "outputs": [],
   "source": []
  }
 ],
 "metadata": {
  "kernelspec": {
   "display_name": "Java",
   "language": "java",
   "name": "java"
  },
  "language_info": {
   "codemirror_mode": "java",
   "file_extension": ".java",
   "mimetype": "text/x-java-source",
   "name": "Java",
   "pygments_lexer": "java",
   "version": "11.0.1+13-LTS"
  }
 },
 "nbformat": 4,
 "nbformat_minor": 2
}

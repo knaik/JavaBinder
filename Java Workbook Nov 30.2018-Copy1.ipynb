{
 "cells": [
  {
   "cell_type": "markdown",
   "metadata": {},
   "source": [
    "# Java Test"
   ]
  },
  {
   "cell_type": "code",
   "execution_count": 1,
   "metadata": {
    "collapsed": true
   },
   "outputs": [],
   "source": [
    "%%loadFromPOM\n",
    "<dependency>\n",
    "    <groupId>guru.nidi</groupId>\n",
    "    <artifactId>graphviz-java</artifactId>\n",
    "    <version>0.8.0</version>\n",
    "</dependency>"
   ]
  },
  {
   "cell_type": "code",
   "execution_count": 8,
   "metadata": {
    "collapsed": true
   },
   "outputs": [],
   "source": [
    "//import guru.nidi.graphviz.*; why doesn't this work?\n",
    "import static guru.nidi.graphviz.model.Factory.*;\n",
    "import guru.nidi.graphviz.attribute.*;\n",
    "import guru.nidi.graphviz.service.*;\n",
    "import guru.nidi.graphviz.model.*;\n",
    "import guru.nidi.graphviz.use.*;\n",
    "import guru.nidi.graphviz.engine.*;\n",
    "import guru.nidi.graphviz.parse.*;\n"
   ]
  },
  {
   "cell_type": "code",
   "execution_count": 7,
   "metadata": {},
   "outputs": [
    {
     "name": "stderr",
     "output_type": "stream",
     "text": [
      "Warning: Nashorn engine is planned to be removed from a future JDK release\n",
      "[IJava-executor-0] INFO guru.nidi.graphviz.engine.AbstractGraphvizEngine - Could not initialize guru.nidi.graphviz.engine.GraphvizCmdLineEngine\n",
      "guru.nidi.graphviz.engine.GraphvizException: dot.exe command not found\n",
      "[IJava-executor-0] INFO guru.nidi.graphviz.engine.AbstractGraphvizEngine - Starting V8 runtime...\n",
      "[IJava-executor-0] INFO guru.nidi.graphviz.engine.AbstractGraphvizEngine - Started V8 runtime. Initializing graphviz...\n",
      "[IJava-executor-0] INFO guru.nidi.graphviz.engine.AbstractGraphvizEngine - Initialized graphviz.\n"
     ]
    }
   ],
   "source": [
    "\n",
    "MutableGraph g = mutGraph(\"example1\").setDirected(true).add(\n",
    "        mutNode(\"a\").add(Color.RED).addLink(mutNode(\"b\")));\n",
    "Graphviz.fromGraph(g).width(200).render(Format.PNG).toFile(new File(\"example/ex6gm.png\"));"
   ]
  },
  {
   "cell_type": "markdown",
   "metadata": {},
   "source": [
    "![first](example/ex4m.png)"
   ]
  },
  {
   "cell_type": "code",
   "execution_count": 12,
   "metadata": {
    "collapsed": true
   },
   "outputs": [],
   "source": [
    "MutableGraph g = mutGraph(\"example1\").setDirected(true).add(\n",
    "        mutNode(\"a\").add(Color.RED).addLink(mutNode(\"b\")));\n",
    "Graphviz.fromGraph(g).width(200).render(Format.PNG).toFile(new File(\"example/ex5m.png\"));"
   ]
  },
  {
   "cell_type": "markdown",
   "metadata": {},
   "source": [
    "![second](example/ex5m.png)"
   ]
  },
  {
   "cell_type": "code",
   "execution_count": 14,
   "metadata": {
    "collapsed": true
   },
   "outputs": [],
   "source": [
    "Graph g = graph(\"example1\").directed()\n",
    "        .graphAttr().with(RankDir.LEFT_TO_RIGHT)\n",
    "        .with(\n",
    "                node(\"a\").with(Color.RED).link(node(\"b\")),\n",
    "                node(\"b\").link(to(node(\"c\")).with(Style.DASHED))\n",
    "        );\n",
    "Graphviz.fromGraph(g).height(100).render(Format.PNG).toFile(new File(\"example/ex8.png\"));"
   ]
  },
  {
   "cell_type": "markdown",
   "metadata": {},
   "source": [
    "![fifth](example/ex7.png)"
   ]
  },
  {
   "cell_type": "code",
   "execution_count": null,
   "metadata": {
    "collapsed": true
   },
   "outputs": [],
   "source": []
  }
 ],
 "metadata": {
  "kernelspec": {
   "display_name": "Java",
   "language": "java",
   "name": "java"
  },
  "language_info": {
   "codemirror_mode": "java",
   "file_extension": ".java",
   "mimetype": "text/x-java-source",
   "name": "Java",
   "pygments_lexer": "java",
   "version": "11.0.1+13-LTS"
  }
 },
 "nbformat": 4,
 "nbformat_minor": 2
}

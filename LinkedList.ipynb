{
 "cells": [
  {
   "cell_type": "markdown",
   "metadata": {},
   "source": [
    "# Linked List\n",
    "\n",
    "### A linked list stores items non-sequentially in memory by holding onto the address of the next item at each previous item.\n",
    "\n",
    "#### space and time complexity\n",
    "\n",
    "||||\n",
    "|:---|---:|:---:|\n",
    "|Space|$O(n)$||\n",
    "|Prepend|&emsp;&nbsp;$O(n\\log{}n)$||\n",
    "|Append|$O(n\\log{}n)$||\n",
    "|Lookup|$O(n\\log{}n)$||\n",
    "|Insert|$O(n\\log{}n)$||\n",
    "|Delete|$O(n\\log{}n)$||\n",
    "\n",
    "|Space|Prepend|Append|Lookup|Insert|Delete|\n",
    "|---:|---:|---:|---:|---:|---:|\n",
    "|&nbsp; $O(n)$|&emsp; $O(n\\log{}n)$| &emsp; $O(n\\log{}n)$ |&emsp; $O(n\\log{}n)$|&emsp; $O(n\\log{}n)$ |&emsp; $O(n\\log{}n)$|"
   ]
  },
  {
   "cell_type": "markdown",
   "metadata": {},
   "source": [
    "First we can define our linked list and node"
   ]
  },
  {
   "cell_type": "code",
   "execution_count": 13,
   "metadata": {
    "collapsed": true
   },
   "outputs": [],
   "source": [
    "class Node{\n",
    "    String data;\n",
    "    Node next;\n",
    "\n",
    "    public Node(String data){\n",
    "        this.data = data; \n",
    "    }\n",
    "\n",
    "    public String data(){\n",
    "        return this.data; \n",
    "    }\n",
    "        \n",
    "    public void setData(String data){\n",
    "        this.data = data;\n",
    "    }\n",
    "        \n",
    "    public Node next(){\n",
    "        return next; \n",
    "    }\n",
    "        \n",
    "    public void setNext(Node next){\n",
    "        this.next = next; \n",
    "    }\n",
    "        \n",
    "    public String toString(){\n",
    "        return this.data; \n",
    "    }\n",
    "}"
   ]
  },
  {
   "cell_type": "code",
   "execution_count": 14,
   "metadata": {},
   "outputs": [],
   "source": [
    "class LinkedList{\n",
    "    Node head;\n",
    "    Node tail;\n",
    "    \n",
    "    public LinkedList(){\n",
    "        this.head = new Node(\"head\");\n",
    "        tail = head; \n",
    "    }\n",
    "\n",
    "    public Node head(){\n",
    "        return head; \n",
    "    }\n",
    "\n",
    "    public void add(Node node){\n",
    "        tail.next = node;\n",
    "        tail = node; \n",
    "    }\n",
    "\n",
    "    public void add(String str){\n",
    "        Node temp = new Node(str);\n",
    "        tail.next = temp;\n",
    "        tail = temp;\n",
    "    }\n",
    "    \n",
    "    public String toString(){\n",
    "        String temp = \"\";\n",
    "        Node curr = head;\n",
    "        \n",
    "        while (curr.next != null){\n",
    "            temp += curr.data;\n",
    "            curr = curr.next;\n",
    "        }\n",
    "        temp += curr.data;\n",
    "        return temp;\n",
    "    }\n",
    "}"
   ]
  },
  {
   "cell_type": "code",
   "execution_count": 15,
   "metadata": {
    "collapsed": true
   },
   "outputs": [],
   "source": [
    "LinkedList one = new LinkedList();"
   ]
  },
  {
   "cell_type": "code",
   "execution_count": 16,
   "metadata": {},
   "outputs": [
    {
     "name": "stdout",
     "output_type": "stream",
     "text": [
      "head one two\n"
     ]
    }
   ],
   "source": [
    "one.add(\" one\");\n",
    "one.add(\" two\");\n",
    "System.out.println(one);"
   ]
  },
  {
   "cell_type": "code",
   "execution_count": 17,
   "metadata": {},
   "outputs": [
    {
     "name": "stdout",
     "output_type": "stream",
     "text": [
      " one\n"
     ]
    }
   ],
   "source": [
    "one.findMid();\n"
   ]
  },
  {
   "cell_type": "code",
   "execution_count": 20,
   "metadata": {
    "collapsed": true
   },
   "outputs": [],
   "source": [
    "public static void findMidst(LinkedList input){\n",
    "        Node slow = input.head();\n",
    "        Node fast = input.head();\n",
    "        while (fast != null && fast.next != null){\n",
    "            fast = fast.next.next;\n",
    "            slow = slow.next;\n",
    "        }\n",
    "        System.out.println(slow.data);\n",
    "    }"
   ]
  },
  {
   "cell_type": "code",
   "execution_count": 21,
   "metadata": {},
   "outputs": [
    {
     "name": "stdout",
     "output_type": "stream",
     "text": [
      " one\n"
     ]
    }
   ],
   "source": [
    "findMidst(one);"
   ]
  },
  {
   "cell_type": "code",
   "execution_count": null,
   "metadata": {
    "collapsed": true
   },
   "outputs": [],
   "source": [
    "public void findMid(){\n",
    "        Node slow = head;\n",
    "        Node fast = head;\n",
    "        while (fast != null && fast.next != null){\n",
    "            fast = fast.next.next;\n",
    "            slow = slow.next;\n",
    "        }\n",
    "        System.out.println(slow.data);\n",
    "    }"
   ]
  },
  {
   "cell_type": "code",
   "execution_count": null,
   "metadata": {
    "collapsed": true
   },
   "outputs": [],
   "source": [
    "public void nthFromEnd(int n, LinkedList list){\n",
    "        Node fast = list.head;\n",
    "        Node main = list.head();\n",
    "        \n",
    "        int temp = n;\n",
    "        while(fast != null && temp  > 0){\n",
    "            fast = fast.next;\n",
    "            temp--;\n",
    "        }\n",
    "        while (fast.next != null){\n",
    "            fast = fast.next;\n",
    "            main = main.next;\n",
    "        }\n",
    "        System.out.println(n + \" from the end is \" + main.data);\n",
    "    }"
   ]
  },
  {
   "cell_type": "code",
   "execution_count": null,
   "metadata": {
    "collapsed": true
   },
   "outputs": [],
   "source": [
    "public static void nthNode(int n, LinkedList list){\n",
    "        int count = 1;\n",
    "        Node curr = list.head;\n",
    "        \n",
    "        if(n < 1){\n",
    "            return;\n",
    "        }\n",
    "        while (count != n && curr != null){\n",
    "            curr = curr.next;\n",
    "            count++;\n",
    "        }\n",
    "        if (count == n){\n",
    "            System.out.println(\"it's \"+curr.data);\n",
    "        }\n",
    "        if (curr == null){\n",
    "            System.out.println(\"reached end of list\");\n",
    "        }\n",
    "        return;\n",
    "        \n",
    "    }"
   ]
  }
 ],
 "metadata": {
  "kernelspec": {
   "display_name": "Java",
   "language": "java",
   "name": "java"
  },
  "language_info": {
   "codemirror_mode": "java",
   "file_extension": ".java",
   "mimetype": "text/x-java-source",
   "name": "Java",
   "pygments_lexer": "java",
   "version": "11.0.1+13-LTS"
  }
 },
 "nbformat": 4,
 "nbformat_minor": 2
}

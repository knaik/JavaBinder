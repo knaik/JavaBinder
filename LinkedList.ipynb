{
 "cells": [
  {
   "cell_type": "markdown",
   "metadata": {},
   "source": [
    "# Linked List\n",
    "\n",
    "### A linked list stores items non-sequentially in memory by holding onto the address of the next item at each previous item.\n",
    "\n",
    "#### Space and Time Complexity\n",
    "\n",
    "||||\n",
    "|:---|---:|:---:|\n",
    "|Space|&emsp;$O(n)$||\n",
    "|Prepend|$O(1)$||\n",
    "|Append|$O(1)$||\n",
    "|Lookup|$O(n)$||\n",
    "|Insert|$O(n)$||\n",
    "|Delete|$O(n)$||\n",
    "\n",
    "|Space|Prepend|Append|Lookup|Insert|Delete|\n",
    "|---:|---:|---:|---:|---:|---:|\n",
    "|&nbsp; $O(n)$|&emsp; $O(1)$| &emsp; $O(1)$ |&emsp; $O(n)$|&emsp; $O(n)$ |&emsp; $O(n)$|"
   ]
  },
  {
   "cell_type": "markdown",
   "metadata": {},
   "source": [
    "### Node definition"
   ]
  },
  {
   "cell_type": "code",
   "execution_count": 84,
   "metadata": {
    "collapsed": true
   },
   "outputs": [],
   "source": [
    "//Node has String data and Node next  \n",
    "//Node can data(), setData(), next(), setNext()\n",
    "class Node{\n",
    "    String data;\n",
    "    Node next;\n",
    "\n",
    "    public Node(String data){\n",
    "        this.data = data; \n",
    "    }\n",
    "\n",
    "    public String data(){\n",
    "        return this.data; \n",
    "    }\n",
    "        \n",
    "    public void setData(String data){\n",
    "        this.data = data;\n",
    "    }\n",
    "        \n",
    "    public Node next(){\n",
    "        return next; \n",
    "    }\n",
    "        \n",
    "    public void setNext(Node next){\n",
    "        this.next = next; \n",
    "    }\n",
    "        \n",
    "    public String toString(){\n",
    "        return \"(\"+this.data+\")\"; \n",
    "    }\n",
    "}"
   ]
  },
  {
   "cell_type": "markdown",
   "metadata": {},
   "source": [
    "### LinkedList Definition"
   ]
  },
  {
   "cell_type": "code",
   "execution_count": 43,
   "metadata": {
    "collapsed": true
   },
   "outputs": [],
   "source": [
    "class LinkedList{\n",
    "    private Node head;\n",
    "    private Node tail;\n",
    "    \n",
    "    public LinkedList(){\n",
    "        this.head = new Node(\"head\");\n",
    "        tail = head; \n",
    "    }\n",
    "\n",
    "    public Node head(){\n",
    "        return head; \n",
    "    }\n",
    "\n",
    "    public void add(Node node){\n",
    "        tail.next = node;\n",
    "        tail = node; \n",
    "    }\n",
    "\n",
    "    public void add(String str){\n",
    "        Node temp = new Node(str);\n",
    "        tail.next = temp;\n",
    "        tail = temp;\n",
    "    }\n",
    "    \n",
    "    public String toString(){\n",
    "        String temp = \"\";\n",
    "        Node curr = head;\n",
    "        \n",
    "        while (curr.next != null){\n",
    "            temp += \"(\" + curr.data + \") -> \" ;\n",
    "            curr = curr.next;\n",
    "        }\n",
    "        temp += \"(\" + curr.data + \")\";\n",
    "        return temp;\n",
    "    }\n",
    "}"
   ]
  },
  {
   "cell_type": "markdown",
   "metadata": {},
   "source": [
    "### We are ready to initialize our first linked list and add some nodes"
   ]
  },
  {
   "cell_type": "code",
   "execution_count": 87,
   "metadata": {},
   "outputs": [
    {
     "name": "stdout",
     "output_type": "stream",
     "text": [
      "(head) -> (one) -> (two)\n"
     ]
    }
   ],
   "source": [
    "LinkedList one = new LinkedList();\n",
    "one.add(\"one\");\n",
    "one.add(\"two\");\n",
    "System.out.println(one);"
   ]
  },
  {
   "cell_type": "markdown",
   "metadata": {},
   "source": [
    "### Find Middle of Linked List\n",
    "Now we can do manipulations on our linked list, our first function is going to involve finding the middle. The logic behind this algorithm is we are using two pointers and one is moving at twice the speed of the other. So the slow pointer is going to move forward half as fast, naturally stopping at the middle.\n",
    "\n",
    "If we were to change the speed we wouldn't find the middle faster, we would get the reciprocal of the speed. For exampe if `fast` was set to `fast.next.next.next`, `slow` would get $\\frac{1}{3}$ of the way.\n",
    "\n",
    "Potential Edge cases:\n",
    "\n",
    "Time Complexity analysis: $O(n)$  \n",
    "Space Complexity analysis: $O(1)$"
   ]
  },
  {
   "cell_type": "code",
   "execution_count": 76,
   "metadata": {
    "collapsed": true
   },
   "outputs": [],
   "source": [
    "public static void findMid(LinkedList input){\n",
    "    System.out.println(input);\n",
    "    Node slow = input.head();\n",
    "    Node fast = input.head();\n",
    "    while (fast != null && fast.next != null){\n",
    "        fast = fast.next.next;\n",
    "        slow = slow.next;\n",
    "    }\n",
    "    System.out.println(\"mid: \"+slow);\n",
    "}"
   ]
  },
  {
   "cell_type": "code",
   "execution_count": 88,
   "metadata": {},
   "outputs": [
    {
     "name": "stdout",
     "output_type": "stream",
     "text": [
      "(head) -> (one) -> (two)\n",
      "mid: (one)\n"
     ]
    }
   ],
   "source": [
    "findMid(one);"
   ]
  },
  {
   "cell_type": "markdown",
   "metadata": {},
   "source": [
    "### Finding and element nth away from the end\n",
    "\n",
    "!Clarification Nth away is defined as the last node being zero and 1 away being the node previous to the last node\n",
    "\n",
    "The logic behind this algorithm is that we will advance the fast pointer n places away from our main pointer. We then continue advancing both pointers at the same rate until the end is reached. Our main pointer will naturally stay offset from the end by n.\n",
    "\n",
    "If we know the size of our linked list, we can get the first element but using the size - 1 as our input int. (No idea why you would want to when you can just use `head()` )\n",
    "\n",
    "Potential Edge Cases:\n",
    "\n",
    "Time Complexity analysis: $O(n)$  \n",
    "Space Complexity analysis: $O(1)$"
   ]
  },
  {
   "cell_type": "code",
   "execution_count": 81,
   "metadata": {
    "collapsed": true
   },
   "outputs": [],
   "source": [
    "public void nthFromEnd(int n, LinkedList list){\n",
    "        Node fast = list.head();\n",
    "        Node main = list.head();\n",
    "        \n",
    "        int temp = n;\n",
    "        while(fast != null && temp  > 0){\n",
    "            fast = fast.next;\n",
    "            temp--;\n",
    "        }\n",
    "        if(fast == null){\n",
    "            System.out.println(\"outside of boundry\");\n",
    "            return;\n",
    "        }\n",
    "        while (fast.next != null){\n",
    "            fast = fast.next;\n",
    "            main = main.next;\n",
    "        }\n",
    "        System.out.println(n + \" from the end is \" + main);\n",
    "    }"
   ]
  },
  {
   "cell_type": "code",
   "execution_count": 89,
   "metadata": {},
   "outputs": [
    {
     "name": "stdout",
     "output_type": "stream",
     "text": [
      "(head) -> (one) -> (two)\n",
      "outside of boundry\n",
      "2 from the end is (head)\n",
      "1 from the end is (one)\n",
      "0 from the end is (two)\n"
     ]
    }
   ],
   "source": [
    "System.out.println(one);\n",
    "nthFromEnd(9999, one);\n",
    "nthFromEnd(2, one);\n",
    "nthFromEnd(1, one);\n",
    "nthFromEnd(0, one);"
   ]
  },
  {
   "cell_type": "markdown",
   "metadata": {},
   "source": [
    "### Finding the nth element\n",
    "\n",
    "We use a counter to keep track of how far we have traversed."
   ]
  },
  {
   "cell_type": "code",
   "execution_count": 90,
   "metadata": {
    "collapsed": true
   },
   "outputs": [],
   "source": [
    "public void nthNode(int n, LinkedList list){\n",
    "        int count = 1;\n",
    "        Node curr = list.head();\n",
    "        \n",
    "        if(n < 1){\n",
    "            System.out.println(\"out of bounds\");\n",
    "            return;\n",
    "        }\n",
    "        while (count != n && curr != null){\n",
    "            curr = curr.next;\n",
    "            count++;\n",
    "        }\n",
    "        if (count == n){\n",
    "            System.out.println(\"it's \"+curr);\n",
    "        }\n",
    "        if (curr == null){\n",
    "            System.out.println(\"reached end of list\");\n",
    "        }\n",
    "        return;\n",
    "        \n",
    "    }"
   ]
  },
  {
   "cell_type": "code",
   "execution_count": 91,
   "metadata": {},
   "outputs": [
    {
     "name": "stdout",
     "output_type": "stream",
     "text": [
      "it's (one)\n"
     ]
    }
   ],
   "source": [
    "nthNode(2, one);"
   ]
  },
  {
   "cell_type": "code",
   "execution_count": 110,
   "metadata": {
    "collapsed": true
   },
   "outputs": [],
   "source": [
    "public class gNode<T>{ //g stands for generic\n",
    "    private T data;\n",
    "    private gNode<T> next;\n",
    "    \n",
    "    public gNode(T input){\n",
    "        this.data = input;\n",
    "    }\n",
    "    \n",
    "    public void setNext(gNode<T> input){\n",
    "        this.next = input;\n",
    "    }\n",
    "    \n",
    "    public gNode<T> next(){\n",
    "        return next;\n",
    "    }\n",
    "    \n",
    "    public T data(){\n",
    "        return data;\n",
    "    }\n",
    "}"
   ]
  },
  {
   "cell_type": "code",
   "execution_count": 111,
   "metadata": {
    "collapsed": true
   },
   "outputs": [],
   "source": [
    "gNode<String> stf = new gNode(\"String\");"
   ]
  },
  {
   "cell_type": "code",
   "execution_count": 112,
   "metadata": {},
   "outputs": [
    {
     "name": "stdout",
     "output_type": "stream",
     "text": [
      "String\n"
     ]
    }
   ],
   "source": [
    "System.out.println(stf.data());"
   ]
  },
  {
   "cell_type": "code",
   "execution_count": null,
   "metadata": {
    "collapsed": true
   },
   "outputs": [],
   "source": []
  }
 ],
 "metadata": {
  "kernelspec": {
   "display_name": "Java",
   "language": "java",
   "name": "java"
  },
  "language_info": {
   "codemirror_mode": "java",
   "file_extension": ".java",
   "mimetype": "text/x-java-source",
   "name": "Java",
   "pygments_lexer": "java",
   "version": "11.0.1+13-LTS"
  }
 },
 "nbformat": 4,
 "nbformat_minor": 2
}

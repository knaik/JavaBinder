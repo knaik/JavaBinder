{
 "cells": [
  {
   "cell_type": "markdown",
   "metadata": {},
   "source": [
    "## 1.1\n",
    "\n",
    "Implement an algorithm to determine if a string has all  unique characters. What if you cannot use additional data structures? "
   ]
  },
  {
   "cell_type": "code",
   "execution_count": 10,
   "metadata": {},
   "outputs": [],
   "source": [
    "boolean isUniqueChars(String str) {\n",
    "    if (str.length() > 128) {\n",
    "        return false;\n",
    "    }\n",
    "    \n",
    "    boolean[] char_set = new boolean[128];\n",
    "    for (int i = 0; i < str.length(); i++){\n",
    "        int val = str.charAt(i);\n",
    "        if (char_set[val]){\n",
    "            return false;\n",
    "        }\n",
    "        char_set[val]=true;\n",
    "    }\n",
    "    return true;\n",
    "}"
   ]
  },
  {
   "cell_type": "code",
   "execution_count": 11,
   "metadata": {},
   "outputs": [
    {
     "name": "stdout",
     "output_type": "stream",
     "text": [
      "false\n"
     ]
    }
   ],
   "source": [
    "System.out.println(isUniqueChars(\"ABCFFFC\"));"
   ]
  },
  {
   "cell_type": "markdown",
   "metadata": {},
   "source": [
    "## 1.2 \n",
    "Given  two strings, write a  method to decide if one is  a  permutation of the other. "
   ]
  },
  {
   "cell_type": "code",
   "execution_count": 25,
   "metadata": {},
   "outputs": [],
   "source": [
    "boolean arePermutations(String str1, String str2){\n",
    "    if (str1.length() != str2.length()){\n",
    "    return false;\n",
    "    }\n",
    "    \n",
    "    int[] let = new int[128]; //array to compare\n",
    "    \n",
    "    char[] array = str1.toCharArray();\n",
    "    for (char c: array){\n",
    "        let[c]++;\n",
    "    };\n",
    "    \n",
    "    for (int i = 0; i < str2.length(); i++){\n",
    "        int c = (int) str2.charAt(i);\n",
    "        let[c]--;\n",
    "        if (let[c] < 0){\n",
    "            return false;\n",
    "        }\n",
    "    }\n",
    "    \n",
    "    return true;\n",
    "}"
   ]
  },
  {
   "cell_type": "code",
   "execution_count": 27,
   "metadata": {},
   "outputs": [
    {
     "name": "stdout",
     "output_type": "stream",
     "text": [
      "true\n"
     ]
    }
   ],
   "source": [
    "System.out.println(arePermutations(\"dog\",\"god\"));"
   ]
  },
  {
   "cell_type": "markdown",
   "metadata": {},
   "source": [
    "## 1.3\n",
    "urlify write a method to replace all spaces in a string with %20\n"
   ]
  }
 ],
 "metadata": {
  "kernelspec": {
   "display_name": "Java",
   "language": "java",
   "name": "java"
  },
  "language_info": {
   "codemirror_mode": "java",
   "file_extension": ".java",
   "mimetype": "text/x-java-source",
   "name": "Java",
   "pygments_lexer": "java",
   "version": "11.0.1+13-LTS"
  }
 },
 "nbformat": 4,
 "nbformat_minor": 2
}

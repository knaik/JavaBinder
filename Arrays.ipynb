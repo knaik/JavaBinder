{
 "cells": [
  {
   "cell_type": "markdown",
   "metadata": {},
   "source": [
    "Arrays are containers stores sequentially in memory.\n",
    "\n",
    "\n",
    "||||\n",
    "|:---|---:|:---:|\n",
    "|Space|&emsp;$O(n)$||\n",
    "|Prepend|$O(n)$|need to shift everything down|\n",
    "|Append|$O(1)$||\n",
    "|Lookup|$O(1)$||\n",
    "|Insert|$O(n)$|need to shift|\n",
    "|Delete|$O(n)$|need to shift|\n"
   ]
  },
  {
   "cell_type": "markdown",
   "metadata": {},
   "source": [
    "Arrays start at index 0 and by specificying an index, we get instant lookup. An array size must be known during declaration. The array can not be resized, a new array must be made and its contents copied to pseudo-resize an array. "
   ]
  },
  {
   "cell_type": "code",
   "execution_count": 1,
   "metadata": {
    "collapsed": true
   },
   "outputs": [],
   "source": [
    "int[] arr = new int[10];\n",
    "for (int i =0; i < arr.length; i++){\n",
    "    arr[i]=i;\n",
    "}\n",
    "\n"
   ]
  },
  {
   "cell_type": "code",
   "execution_count": 2,
   "metadata": {},
   "outputs": [
    {
     "name": "stdout",
     "output_type": "stream",
     "text": [
      "0\n"
     ]
    }
   ],
   "source": [
    "System.out.println(arr[0]);"
   ]
  },
  {
   "cell_type": "markdown",
   "metadata": {},
   "source": [
    "Functions to implement\n",
    "\n",
    "    append\n",
    "    insert at index\n",
    "    delete at idex\n",
    "    sort\n",
    "    binary search\n",
    "    "
   ]
  },
  {
   "cell_type": "code",
   "execution_count": null,
   "metadata": {
    "collapsed": true
   },
   "outputs": [],
   "source": []
  }
 ],
 "metadata": {
  "kernelspec": {
   "display_name": "Java",
   "language": "java",
   "name": "java"
  },
  "language_info": {
   "codemirror_mode": "java",
   "file_extension": ".java",
   "mimetype": "text/x-java-source",
   "name": "Java",
   "pygments_lexer": "java",
   "version": "11.0.1+13-LTS"
  }
 },
 "nbformat": 4,
 "nbformat_minor": 2
}

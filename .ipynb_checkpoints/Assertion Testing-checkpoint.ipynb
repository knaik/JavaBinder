{
 "cells": [
  {
   "cell_type": "markdown",
   "metadata": {},
   "source": [
    "Testing Assertions"
   ]
  },
  {
   "cell_type": "code",
   "execution_count": 1,
   "metadata": {
    "collapsed": true
   },
   "outputs": [],
   "source": [
    "%maven junit:junit:4.12"
   ]
  },
  {
   "cell_type": "code",
   "execution_count": 2,
   "metadata": {
    "collapsed": true
   },
   "outputs": [],
   "source": [
    "import static org.junit.Assert.*;"
   ]
  },
  {
   "cell_type": "code",
   "execution_count": 3,
   "metadata": {
    "collapsed": true
   },
   "outputs": [],
   "source": [
    "import org.junit.Test;\n",
    "import static org.junit.Assert.assertEquals;\n",
    "\n",
    "public class TestJunit {\n",
    "   @Test\n",
    "\t\n",
    "   public void testAdd() {\n",
    "      String str = \"Junit is working fine\";\n",
    "      assertEquals(\"Junit is working fine\",str);\n",
    "   }\n",
    "}"
   ]
  },
  {
   "cell_type": "code",
   "execution_count": 4,
   "metadata": {
    "collapsed": true
   },
   "outputs": [],
   "source": [
    "import org.junit.runner.JUnitCore;\n",
    "import org.junit.runner.Result;\n",
    "import org.junit.runner.notification.Failure;"
   ]
  },
  {
   "cell_type": "code",
   "execution_count": 5,
   "metadata": {},
   "outputs": [
    {
     "name": "stdout",
     "output_type": "stream",
     "text": [
      "true\n"
     ]
    }
   ],
   "source": [
    "Result result = JUnitCore.runClasses(TestJunit.class);\n",
    "\t\t\n",
    "      for (Failure failure : result.getFailures()) {\n",
    "         System.out.println(failure.toString());\n",
    "      }\n",
    "\t\t\n",
    "      System.out.println(result.wasSuccessful());"
   ]
  },
  {
   "cell_type": "code",
   "execution_count": null,
   "metadata": {
    "collapsed": true
   },
   "outputs": [],
   "source": []
  }
 ],
 "metadata": {
  "kernelspec": {
   "display_name": "Java",
   "language": "java",
   "name": "java"
  },
  "language_info": {
   "codemirror_mode": "java",
   "file_extension": ".java",
   "mimetype": "text/x-java-source",
   "name": "Java",
   "pygments_lexer": "java",
   "version": "11.0.1+13-LTS"
  }
 },
 "nbformat": 4,
 "nbformat_minor": 2
}
